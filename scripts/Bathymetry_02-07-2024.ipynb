{
  "cells": [
    {
      "cell_type": "markdown",
      "metadata": {
        "id": "jUyKZhdZGatP"
      },
      "source": [
        "**Reading in the data file**\n",
        "1. On the left, create a folder called files.\n",
        "2. Upload any .gpx files you want to correct depths of into this folder"
      ]
    },
    {
      "cell_type": "code",
      "source": [
        "!pip install gpxpy\n",
        "import os\n",
        "import gpxpy\n",
        "import re\n",
        "import pandas as pd\n",
        "\n",
        "def extract_data(gpx_file_path):\n",
        "    data = {\n",
        "        'Latitude': [],\n",
        "        'Longitude': [],\n",
        "        'Depth': [],\n",
        "        'Time': []\n",
        "    }\n",
        "\n",
        "    with open(gpx_file_path, 'r') as gpx_file:\n",
        "        gpx_content = gpx_file.read()\n",
        "\n",
        "        lat_pattern = r'lat=\"(-?\\d+\\.\\d+)\"'\n",
        "        data['Latitude'] = re.findall(lat_pattern, gpx_content)\n",
        "\n",
        "        lon_pattern = r'lon=\"(-?\\d+\\.\\d+)\"'\n",
        "        data['Longitude'] = re.findall(lon_pattern, gpx_content)\n",
        "\n",
        "        depth_pattern = r'depth>(\\d+\\.\\d+)'\n",
        "        data['Depth'] = re.findall(depth_pattern, gpx_content)\n",
        "\n",
        "        time_pattern = r'time>(\\d{4}-\\d{2}-\\d{2}T\\d{2}:\\d{2}:\\d{2})'\n",
        "        extracted_times = re.findall(time_pattern, gpx_content)\n",
        "\n",
        "        first_time = extracted_times[0]\n",
        "        for time in extracted_times:\n",
        "            if time:\n",
        "                if first_time is None:\n",
        "                    first_time = time\n",
        "                data['Time'].append(time)\n",
        "            else:\n",
        "                data['Time'].append(first_time)\n",
        "\n",
        "    max_length = max(len(data['Latitude']), len(data['Longitude']), len(data['Depth']), len(data['Time']))\n",
        "    for key in data.keys():\n",
        "        data[key] += [None] * (max_length - len(data[key]))\n",
        "\n",
        "    return data\n",
        "# If the folder is named something other than files, change the name here\n",
        "folder_path = './files/'\n",
        "\n",
        "gpx_files = [f for f in os.listdir(folder_path) if f.endswith('.gpx')]\n",
        "\n",
        "combined_df = pd.DataFrame()\n",
        "\n",
        "for gpx_file in gpx_files:\n",
        "    gpx_file_path = os.path.join(folder_path, gpx_file)\n",
        "    extracted_data = extract_data(gpx_file_path)\n",
        "\n",
        "    df = pd.DataFrame(extracted_data)\n",
        "    columns_to_convert = ['Latitude', 'Longitude', 'Depth']\n",
        "    df[columns_to_convert] = df[columns_to_convert].astype(float)\n",
        "    df['Time'] = df['Time'].fillna(method='ffill')\n",
        "    df = df[df['Depth'] != 0.0]\n",
        "    df.loc[df['Depth'] != 0, 'Depth'] -= 1.5\n",
        "\n",
        "    combined_df = combined_df.append(df, ignore_index=True)\n",
        "# uncomment the line below to show the data frame\n",
        "# print(combined_df)\n"
      ],
      "metadata": {
        "colab": {
          "base_uri": "https://localhost:8080/"
        },
        "id": "2v9XVVerbAh4",
        "outputId": "645e5bb5-ea7f-4f46-c83c-a0dc3878f99e"
      },
      "execution_count": null,
      "outputs": [
        {
          "output_type": "stream",
          "name": "stdout",
          "text": [
            "Requirement already satisfied: gpxpy in /usr/local/lib/python3.10/dist-packages (1.6.2)\n"
          ]
        },
        {
          "output_type": "stream",
          "name": "stderr",
          "text": [
            "<ipython-input-8-7f7668bdcf77>:62: FutureWarning: The frame.append method is deprecated and will be removed from pandas in a future version. Use pandas.concat instead.\n",
            "  combined_df = combined_df.append(df, ignore_index=True)\n"
          ]
        }
      ]
    },
    {
      "cell_type": "markdown",
      "source": [
        "**Shapefile**\n",
        "1. On the left, upload shapefile. Every subfile should be named shape and then the correct file type.\n",
        "2. If the shapefiles have a different name, correct the name below where indicated"
      ],
      "metadata": {
        "id": "8LEvMJaug5sP"
      }
    },
    {
      "cell_type": "code",
      "source": [
        "\n",
        "import zipfile\n",
        "import geopandas as gpd\n",
        "# change the name of the shape file here if needed\n",
        "shapefile_path = 'shape.shp'\n",
        "\n",
        "gdf = gpd.read_file(shapefile_path)\n"
      ],
      "metadata": {
        "id": "Mn2ZBiJe587Y"
      },
      "execution_count": null,
      "outputs": []
    },
    {
      "cell_type": "markdown",
      "source": [
        "**Finding Zones**\n",
        "1. Run the code below twice to find the zones associated with each point\n",
        "2. Uncomment last line of code below if you want to see the zones"
      ],
      "metadata": {
        "id": "9t-Ol_OkhuNh"
      }
    },
    {
      "cell_type": "code",
      "source": [
        "import geopandas as gpd\n",
        "from shapely.geometry import Point\n",
        "geometry = [Point(lon, lat) for lon, lat in zip(df['Longitude'], df['Latitude'])]\n",
        "\n",
        "gdf_points = gpd.GeoDataFrame(geometry=geometry, crs=gdf.crs)\n",
        "selected_row = gdf.iloc[0]\n",
        "\n",
        "\n",
        "from shapely.geometry import Polygon\n",
        "from shapely import wkt\n",
        "gdf_wgs84 = gdf.to_crs(\"EPSG:4326\")\n",
        "\n",
        "\n",
        "gdf['zone_index'] = gdf.index + 1\n",
        "\n",
        "joined = gpd.sjoin(gdf_points, gdf_wgs84, how='left', op='within')\n",
        "\n",
        "# uncomment the line below to see the zones\n",
        "print(joined[['geometry',  'zone_index']])\n"
      ],
      "metadata": {
        "colab": {
          "base_uri": "https://localhost:8080/"
        },
        "id": "ziZc_E3rBU15",
        "outputId": "34a75650-304b-4782-e1ab-919239df098c"
      },
      "execution_count": null,
      "outputs": [
        {
          "output_type": "stream",
          "name": "stdout",
          "text": [
            "                     geometry  zone_index\n",
            "0      POINT (-75.977 37.455)      1147.0\n",
            "1      POINT (-75.974 37.456)      1147.0\n",
            "2      POINT (-75.944 37.559)      1164.0\n",
            "3      POINT (-75.937 37.554)      1164.0\n",
            "4      POINT (-75.921 37.551)      1154.0\n",
            "...                       ...         ...\n",
            "20418  POINT (-75.806 37.511)         NaN\n",
            "20419  POINT (-75.806 37.510)         NaN\n",
            "20420  POINT (-75.806 37.510)         NaN\n",
            "20421  POINT (-75.807 37.510)         NaN\n",
            "20422  POINT (-75.806 37.509)         NaN\n",
            "\n",
            "[20423 rows x 2 columns]\n"
          ]
        },
        {
          "output_type": "stream",
          "name": "stderr",
          "text": [
            "/usr/local/lib/python3.10/dist-packages/IPython/core/interactiveshell.py:3473: FutureWarning: The `op` parameter is deprecated and will be removed in a future release. Please use the `predicate` parameter instead.\n",
            "  if (await self.run_code(code, result,  async_=asy)):\n",
            "<ipython-input-12-6b5749f1a369>:16: UserWarning: CRS mismatch between the CRS of left geometries and the CRS of right geometries.\n",
            "Use `to_crs()` to reproject one of the input geometries to match the CRS of the other.\n",
            "\n",
            "Left CRS: EPSG:3857\n",
            "Right CRS: EPSG:4326\n",
            "\n",
            "  joined = gpd.sjoin(gdf_points, gdf_wgs84, how='left', op='within')\n"
          ]
        }
      ]
    },
    {
      "cell_type": "markdown",
      "source": [
        "**Adding Station Information**\n",
        "1. On the left, add the CSV with info on the zone.\n",
        "2. If the name is not NorthAtlantic_5.csv, rename it below\n",
        "\n",
        "\n"
      ],
      "metadata": {
        "id": "AArhOrABI14A"
      }
    },
    {
      "cell_type": "code",
      "execution_count": null,
      "metadata": {
        "id": "-xaK7VduIUyz",
        "colab": {
          "base_uri": "https://localhost:8080/"
        },
        "outputId": "22737c77-8003-4845-a690-78ba05da2706"
      },
      "outputs": [
        {
          "output_type": "stream",
          "name": "stdout",
          "text": [
            "        Latitude  Longitude  Depth  index_right ControlStn_x    RR ControlS_1  \\\n",
            "0      37.455373 -75.977406  357.5       1146.0      8636580  1.59       None   \n",
            "1      37.456211 -75.974469  230.5       1146.0      8636580  1.59       None   \n",
            "2      37.558602 -75.943757   23.5       1163.0      8636580  1.42       None   \n",
            "3      37.554225 -75.937235  211.5       1163.0      8636580  1.42       None   \n",
            "4      37.551207 -75.920913  193.5       1153.0      8636580  1.51       None   \n",
            "...          ...        ...    ...          ...          ...   ...        ...   \n",
            "15339  37.504261 -75.791875   33.5        132.0      8631044  1.00       None   \n",
            "15340  37.505585 -75.793879   33.5        132.0      8631044  1.00       None   \n",
            "15341  37.506215 -75.796043   33.5        132.0      8631044  1.00       None   \n",
            "15342  37.507066 -75.798415   31.5        132.0      8631044  1.00       None   \n",
            "15343  37.507460 -75.800984   33.5        132.0      8631044  1.00       None   \n",
            "\n",
            "       ATCorr2  RR2 DataProv  ...  ControlStn_y  AvgTimeCorr  RangeRatio  \\\n",
            "0          0.0  0.0   CO-OPS  ...       8636580          -48        1.59   \n",
            "1          0.0  0.0   CO-OPS  ...       8636580          -48        1.59   \n",
            "2          0.0  0.0   CO-OPS  ...       8636580          -18        1.42   \n",
            "3          0.0  0.0   CO-OPS  ...       8636580          -18        1.42   \n",
            "4          0.0  0.0   CO-OPS  ...       8636580          -12        1.51   \n",
            "...        ...  ...      ...  ...           ...          ...         ...   \n",
            "15339      0.0  0.0   CO-OPS  ...       8631044          -12        1.00   \n",
            "15340      0.0  0.0   CO-OPS  ...       8631044          -12        1.00   \n",
            "15341      0.0  0.0   CO-OPS  ...       8631044          -12        1.00   \n",
            "15342      0.0  0.0   CO-OPS  ...       8631044          -12        1.00   \n",
            "15343      0.0  0.0   CO-OPS  ...       8631044          -12        1.00   \n",
            "\n",
            "       ControlStn2  AvgTimeCorr2  RangeRatio2  Data Provider   Shape__Area  \\\n",
            "0              NaN           NaN          NaN         CO-OPS  1.006755e+08   \n",
            "1              NaN           NaN          NaN         CO-OPS  1.006755e+08   \n",
            "2              NaN           NaN          NaN         CO-OPS  7.377359e+07   \n",
            "3              NaN           NaN          NaN         CO-OPS  7.377359e+07   \n",
            "4              NaN           NaN          NaN         CO-OPS  7.196229e+07   \n",
            "...            ...           ...          ...            ...           ...   \n",
            "15339          NaN           NaN          NaN         CO-OPS  2.206121e+08   \n",
            "15340          NaN           NaN          NaN         CO-OPS  2.206121e+08   \n",
            "15341          NaN           NaN          NaN         CO-OPS  2.206121e+08   \n",
            "15342          NaN           NaN          NaN         CO-OPS  2.206121e+08   \n",
            "15343          NaN           NaN          NaN         CO-OPS  2.206121e+08   \n",
            "\n",
            "       Shape__Length            new_time  \n",
            "0        43271.48659 2009-12-02 14:35:50  \n",
            "1        43271.48659 2009-12-02 14:59:33  \n",
            "2        35892.75911 2009-12-03 13:25:22  \n",
            "3        35892.75911 2009-12-03 13:44:11  \n",
            "4        40639.41553 2009-12-03 15:03:44  \n",
            "...              ...                 ...  \n",
            "15339    58482.52646 2010-02-02 18:20:33  \n",
            "15340    58482.52646 2010-02-02 18:20:33  \n",
            "15341    58482.52646 2010-02-02 18:20:33  \n",
            "15342    58482.52646 2010-02-02 18:20:33  \n",
            "15343    58482.52646 2010-02-02 18:20:33  \n",
            "\n",
            "[15344 rows x 24 columns]\n"
          ]
        }
      ],
      "source": [
        "\n",
        "import pandas as pd\n",
        "\n",
        "# rename the file below\n",
        "file_path = \"NorthAtlantic_5.csv\"\n",
        "\n",
        "NorthAtlantic = pd.read_csv(file_path)\n",
        "merged_df = pd.merge(joined, NorthAtlantic, left_on='zone_index', right_on='OBJECTID', how='inner')\n",
        "\n",
        "merged_df['Latitude'] = merged_df['geometry'].y\n",
        "merged_df['Longitude'] = merged_df['geometry'].x\n",
        "\n",
        "merged_df = merged_df.drop(columns=['geometry'])\n",
        "\n",
        "final_df = pd.merge(df, merged_df, on=['Latitude', 'Longitude'], how='inner')\n",
        "\n",
        "final_df['Time'] = pd.to_datetime(final_df['Time'])\n",
        "final_df['ATCorr'] = pd.to_numeric(final_df['ATCorr'], errors='coerce').fillna(0)\n",
        "\n",
        "# Add the timedelta from 'ATCorr' to 'time'\n",
        "final_df['new_time'] = final_df['Time'] - pd.to_timedelta(final_df['ATCorr'], unit='m')\n",
        "\n",
        "# If you want to keep only the new_time column, you can drop the original 'time' and 'ATCorr' columns\n",
        "final_df = final_df.drop(['Time', 'ATCorr'], axis=1)\n",
        "# uncomment the line below to display the merged DataFrame\n",
        "print(final_df)\n"
      ]
    },
    {
      "cell_type": "markdown",
      "source": [
        "**Making API Calls**\n",
        "Uncomment the lines below to print if it used cached data or re-pinged the website"
      ],
      "metadata": {
        "id": "YAh5ojdQd-qI"
      }
    },
    {
      "cell_type": "code",
      "source": [
        "import requests\n",
        "import pandas as pd\n",
        "from json.decoder import JSONDecodeError\n",
        "from collections import namedtuple\n",
        "\n",
        "api_url = \"https://api.tidesandcurrents.noaa.gov/api/prod/datagetter?\"\n",
        "params = {'datum': 'MSL', 'units': 'english', 'product': 'water_level', 'time_zone': 'lst_ldt',\n",
        "          'interval': 'h', 'bin': '0', 'format': 'json', 'range': '1'}\n",
        "ApiCache = namedtuple('ApiCache', ['Time', 'ControlStn_y', 'Data'])\n",
        "api_cache = {}\n",
        "\n",
        "def make_api_call(row):\n",
        "    datetime_str = row['new_time']\n",
        "    date_time = pd.to_datetime(datetime_str, format='%Y-%m-%dT%H:%M:%S')\n",
        "    station = row['ControlStn_y']\n",
        "\n",
        "    if 'Time' in api_cache:\n",
        "\n",
        "        cache_data = ApiCache(Time=pd.to_datetime(api_cache['new_time']),\n",
        "                              ControlStn_y=api_cache['ControlStn_y'],\n",
        "                              Data=api_cache['Data'])\n",
        "\n",
        "        mask = (cache_data.Time.day == date_time.day) & (cache_data.Time.hour == date_time.hour) & (cache_data.ControlStn_y == station)\n",
        "\n",
        "        if mask:\n",
        "\n",
        "            # print(f\"Using previously collected data for Station {station}\")\n",
        "\n",
        "            return cache_data.Data['data'][0]['v']\n",
        "\n",
        "    params['begin_date'] = date_time.strftime('%Y%m%d %H:%M')\n",
        "    params['station'] = station\n",
        "\n",
        "    try:\n",
        "\n",
        "        response = requests.get(api_url, params=params)\n",
        "        response.raise_for_status()\n",
        "        api_data = response.json()\n",
        "        api_cache['new_time'] = date_time\n",
        "        api_cache['ControlStn_y'] = station\n",
        "        api_cache['Data'] = api_data\n",
        "\n",
        "        # print(f\"API response for Station {station}, Time {date_time}: {api_data}\")\n",
        "\n",
        "        return api_data['data'][0]['v']\n",
        "\n",
        "    except JSONDecodeError as e:\n",
        "        print(f\"JSONDecodeError for Station {station}, Time {date_time}: {e}\")\n",
        "    except requests.RequestException as e:\n",
        "        print(f\"RequestException for Station {station}, Time {date_time}: {e}\")\n",
        "\n",
        "final_df['WaterLevel'] = final_df.apply(make_api_call, axis=1)\n",
        "\n",
        "\n"
      ],
      "metadata": {
        "id": "BAm8scv2FyNz"
      },
      "execution_count": null,
      "outputs": []
    },
    {
      "cell_type": "markdown",
      "source": [
        "**Final Dataframe**\n",
        "\n",
        "Uncomment the line of code below to see the final dataframe.\n",
        "Run the last two cells to perform the corrections and create a CSV"
      ],
      "metadata": {
        "id": "LvtQHIFb3wUA"
      }
    },
    {
      "cell_type": "code",
      "source": [
        "\n",
        "final_df['CorrectedDepth'] = final_df['Depth'] - (final_df['WaterLevel'].astype(float) * final_df['RangeRatio'].astype(float))\n",
        "# print(final_df)"
      ],
      "metadata": {
        "colab": {
          "base_uri": "https://localhost:8080/"
        },
        "id": "szHmLcOZO103",
        "outputId": "23f9b7a3-de08-4ba6-f786-8f2399f58daa"
      },
      "execution_count": null,
      "outputs": [
        {
          "output_type": "stream",
          "name": "stdout",
          "text": [
            "        Latitude  Longitude  Depth                 Time  index_right  \\\n",
            "0      37.455373 -75.977406  357.5  2009-12-02T15:23:50       1146.0   \n",
            "1      37.456211 -75.974469  230.5  2009-12-02T15:47:33       1146.0   \n",
            "2      37.558602 -75.943757   23.5  2009-12-03T13:43:22       1163.0   \n",
            "3      37.554225 -75.937235  211.5  2009-12-03T14:02:11       1163.0   \n",
            "4      37.551207 -75.920913  193.5  2009-12-03T15:15:44       1153.0   \n",
            "...          ...        ...    ...                  ...          ...   \n",
            "15339  37.504261 -75.791875   33.5  2010-02-02T18:32:33        132.0   \n",
            "15340  37.505585 -75.793879   33.5  2010-02-02T18:32:33        132.0   \n",
            "15341  37.506215 -75.796043   33.5  2010-02-02T18:32:33        132.0   \n",
            "15342  37.507066 -75.798415   31.5  2010-02-02T18:32:33        132.0   \n",
            "15343  37.507460 -75.800984   33.5  2010-02-02T18:32:33        132.0   \n",
            "\n",
            "      ControlStn_x  ATCorr    RR ControlS_1  ATCorr2  ...  AvgTimeCorr  \\\n",
            "0          8636580   -48.0  1.59       None      0.0  ...          -48   \n",
            "1          8636580   -48.0  1.59       None      0.0  ...          -48   \n",
            "2          8636580   -18.0  1.42       None      0.0  ...          -18   \n",
            "3          8636580   -18.0  1.42       None      0.0  ...          -18   \n",
            "4          8636580   -12.0  1.51       None      0.0  ...          -12   \n",
            "...            ...     ...   ...        ...      ...  ...          ...   \n",
            "15339      8631044   -12.0  1.00       None      0.0  ...          -12   \n",
            "15340      8631044   -12.0  1.00       None      0.0  ...          -12   \n",
            "15341      8631044   -12.0  1.00       None      0.0  ...          -12   \n",
            "15342      8631044   -12.0  1.00       None      0.0  ...          -12   \n",
            "15343      8631044   -12.0  1.00       None      0.0  ...          -12   \n",
            "\n",
            "      RangeRatio  ControlStn2  AvgTimeCorr2  RangeRatio2  Data Provider  \\\n",
            "0           1.59          NaN           NaN          NaN         CO-OPS   \n",
            "1           1.59          NaN           NaN          NaN         CO-OPS   \n",
            "2           1.42          NaN           NaN          NaN         CO-OPS   \n",
            "3           1.42          NaN           NaN          NaN         CO-OPS   \n",
            "4           1.51          NaN           NaN          NaN         CO-OPS   \n",
            "...          ...          ...           ...          ...            ...   \n",
            "15339       1.00          NaN           NaN          NaN         CO-OPS   \n",
            "15340       1.00          NaN           NaN          NaN         CO-OPS   \n",
            "15341       1.00          NaN           NaN          NaN         CO-OPS   \n",
            "15342       1.00          NaN           NaN          NaN         CO-OPS   \n",
            "15343       1.00          NaN           NaN          NaN         CO-OPS   \n",
            "\n",
            "        Shape__Area  Shape__Length  WaterLevel  CorrectedDepth  \n",
            "0      1.006755e+08    43271.48659       0.741       356.32181  \n",
            "1      1.006755e+08    43271.48659       0.741       229.32181  \n",
            "2      7.377359e+07    35892.75911       1.778        20.97524  \n",
            "3      7.377359e+07    35892.75911       1.660       209.14280  \n",
            "4      7.196229e+07    40639.41553       1.234       191.63666  \n",
            "...             ...            ...         ...             ...  \n",
            "15339  2.206121e+08    58482.52646       0.915        32.58500  \n",
            "15340  2.206121e+08    58482.52646       0.915        32.58500  \n",
            "15341  2.206121e+08    58482.52646       0.915        32.58500  \n",
            "15342  2.206121e+08    58482.52646       0.915        30.58500  \n",
            "15343  2.206121e+08    58482.52646       0.915        32.58500  \n",
            "\n",
            "[15344 rows x 27 columns]\n"
          ]
        }
      ]
    },
    {
      "cell_type": "code",
      "source": [
        "\n",
        "selected_columns = ['Latitude', 'Longitude', 'CorrectedDepth']\n",
        "new_df = final_df[selected_columns]\n",
        "\n",
        "new_df.to_csv('output.csv', index=False)\n"
      ],
      "metadata": {
        "id": "ggfc_XxGPipe"
      },
      "execution_count": null,
      "outputs": []
    }
  ],
  "metadata": {
    "colab": {
      "provenance": []
    },
    "kernelspec": {
      "display_name": "Python 3",
      "name": "python3"
    },
    "language_info": {
      "name": "python"
    }
  },
  "nbformat": 4,
  "nbformat_minor": 0
}